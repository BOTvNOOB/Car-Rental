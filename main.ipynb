{
 "cells": [
  {
   "cell_type": "code",
   "execution_count": 1,
   "metadata": {},
   "outputs": [
    {
     "name": "stdout",
     "output_type": "stream",
     "text": [
      "\n",
      "        ====== CAR RENTAL SHOP ======\n",
      "        1. Display available cars\n",
      "        2. Request a car on hourly basis $5/hour\n",
      "        3. Request a car on daily basis $20/day\n",
      "        4. Request a car on weekly basis $60/week\n",
      "        5. Return a car\n",
      "        6. Exit\n",
      "        \n"
     ]
    }
   ],
   "source": [
    "from carRental import CarRental, Customer\n",
    "\n",
    "def main():\n",
    "    rental = CarRental(100)  # Initialize with 100 cars\n",
    "    customer = Customer()\n",
    "\n",
    "    while True:\n",
    "        print(\"\"\"\n",
    "        ====== CAR RENTAL SHOP ======\n",
    "        1. Display available cars\n",
    "        2. Request a car on hourly basis $5/hour\n",
    "        3. Request a car on daily basis $20/day\n",
    "        4. Request a car on weekly basis $60/week\n",
    "        5. Return a car\n",
    "        6. Exit\n",
    "        \"\"\")\n",
    "        \n",
    "        choice = input(\"Enter your choice: \")\n",
    "        \n",
    "        try:\n",
    "            choice = int(choice)\n",
    "        except ValueError:\n",
    "            print(\"Please enter a valid choice.\")\n",
    "            continue\n",
    "        \n",
    "        if choice == 1:\n",
    "            rental.display_stock()\n",
    "        \n",
    "        elif choice == 2:\n",
    "            customer.rental_time = rental.rent_car_hourly(customer.request_car())\n",
    "            customer.rental_basis = 'hourly'\n",
    "        \n",
    "        elif choice == 3:\n",
    "            customer.rental_time = rental.rent_car_daily(customer.request_car())\n",
    "            customer.rental_basis = 'daily'\n",
    "        \n",
    "        elif choice == 4:\n",
    "            customer.rental_time = rental.rent_car_weekly(customer.request_car())\n",
    "            customer.rental_basis = 'weekly'\n",
    "        \n",
    "        elif choice == 5:\n",
    "            request = customer.return_car()\n",
    "            bill = rental.return_car(request)\n",
    "            customer.rental_basis, customer.rental_time, customer.cars = None, None, 0\n",
    "        \n",
    "        elif choice == 6:\n",
    "            break\n",
    "        else:\n",
    "            print(\"Invalid input. Please enter a number between 1 and 6.\")\n",
    "\n",
    "if __name__ == \"__main__\":\n",
    "    main()\n"
   ]
  }
 ],
 "metadata": {
  "kernelspec": {
   "display_name": "Python 3",
   "language": "python",
   "name": "python3"
  },
  "language_info": {
   "codemirror_mode": {
    "name": "ipython",
    "version": 3
   },
   "file_extension": ".py",
   "mimetype": "text/x-python",
   "name": "python",
   "nbconvert_exporter": "python",
   "pygments_lexer": "ipython3",
   "version": "3.11.9"
  }
 },
 "nbformat": 4,
 "nbformat_minor": 4
}
